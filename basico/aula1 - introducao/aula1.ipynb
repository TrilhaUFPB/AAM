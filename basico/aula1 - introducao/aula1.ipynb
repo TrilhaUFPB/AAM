{
 "cells": [
  {
   "cell_type": "markdown",
   "metadata": {},
   "source": [
    "<div style=\"text-align: center;\">\n",
    "  <a href=\"trilha\">\n",
    "    <img src=\"Frame 73.png\" width=\"300\" title=\"trilha Logo\" />\n",
    "    <h1 style=\"#1c4ae5\">Tipos primitivos de dados e Entrada e saída</h1>\n",
    "  </a>\n",
    "</div>\n"
   ]
  },
  {
   "cell_type": "markdown",
   "metadata": {
    "vscode": {
     "languageId": "plaintext"
    }
   },
   "source": [
    "## O que é uma variável?\n",
    "\n",
    "### Já parou pra pensar o que a palavra \"variável\" significa?\n",
    "\n",
    "### Em uma frase simples: Um espaço reservado na memória.\n",
    "\n"
   ]
  },
  {
   "cell_type": "markdown",
   "metadata": {},
   "source": [
    "<div style=\"text-align: center;\">\n",
    "  <img src=\"Memory-block-partition.png\">\n",
    "</div>"
   ]
  },
  {
   "cell_type": "markdown",
   "metadata": {},
   "source": [
    "A memória pode ser visualizada como da maneira acima, dividida em \"blocos\", e esses blocos vão ter o tamanho diferente, dependendo da dimensionalidade que estamos pensando. \n",
    "\n",
    "Mas isso tudo é de maneira LITERAL, literalmente a memória é dividida dessa forma: em blocos. Onde cada lugar, pode estar armazenando um valor, ou apenas reservou um espaço para ser utilizado no futuro, em determinado ENDEREÇO.\n",
    "\n",
    "Quando falamos de variável, a gente pede pra memória um local reservado, e ela separa aquele lugar para ser utilizado no futuro, caso não digamos um valor. Caso já atribuimos um valor a variável, a memória vai armazenar o valor no endereço reservado."
   ]
  },
  {
   "cell_type": "markdown",
   "metadata": {},
   "source": [
    "================================================================================="
   ]
  },
  {
   "cell_type": "markdown",
   "metadata": {},
   "source": [
    "Então, como deixamos de apenas reservar o espaço, e poder passar a utilizá-los?\n",
    "\n",
    "ai entra os *Tipos primitivos de dados*.\n",
    "\n",
    "Entre eles, temos:\n",
    "- Inteiros (int)\n",
    "\n",
    "    Representam números inteiros, positivos ou negativos, sem casas decimais.\n",
    "\n",
    "    Exemplo: x = 10, y = -3.\n",
    "\n",
    "    Os inteiros ocupam 4 bytes de memória.\n",
    "\n",
    "\n",
    "- Ponto flutuante (float)\n",
    "    Representam números reais (com casas decimais).\n",
    "\n",
    "    Exemplo: pi = 3.14, temp = -10.5.\n",
    "\n",
    "    Os pontos flutuantes ocupam 4 bytes de memória.\n",
    "\n",
    "- Caracteres (char)\n",
    "    Representam letras, números e símbolos.\n",
    "\n",
    "    Podem ser definidas com aspas simples ou duplas.\n",
    "\n",
    "    Os caracteres ocupam 1 byte de memória.\n",
    "\n",
    "\n",
    "- Booleanos (bool)\n",
    "    Representam valores lógicos: True ou False.\n",
    "\n",
    "    Usado para controle de fluxo e comparação.\n",
    "\n",
    "    Exemplo: is_active = True, is_valid = False.\n",
    "\n",
    "    Os booleanos ocupam 1 byte de memória"
   ]
  },
  {
   "cell_type": "markdown",
   "metadata": {},
   "source": [
    "### Entretanto, como estamos em Python, temos um \"tipo primitivo\" diferente: string.\n",
    "\n",
    "Uma string é um conjunto de caracteres, então se no char, podemos ter algo como 'h', uma string seria algo como 'hello world'. Em python, diferente de outras linguagens mais antigas (Como 'C'), existe a string nativamente, sem precisar de estruturas de dados para construí-las.\n",
    "\n",
    "(Assunto em breve).\n",
    "\n"
   ]
  },
  {
   "cell_type": "markdown",
   "metadata": {},
   "source": [
    "## Observação:\n",
    "\n",
    "Em Python, você não pode criar uma variável de tipo primitivo (como int, float, str) sem atribuir um valor a ela de imediato. Python não possui um tipo de variável não inicializada como algumas outras linguagens (por exemplo, null ou undefined em JavaScript).\n",
    "\n",
    "Entretanto, existem algumas abordagens alternativas para lidar com variáveis \"não atribuídas\" ou \"vazias\":\n",
    "\n",
    "1. Atribuir None\n",
    "\n",
    "    None é um valor especial que pode ser usado para indicar que a variável não foi inicializada com um valor válido ainda. Isso é comum quando você deseja inicializar a variável, mas não tem um valor específico no momento.\n",
    "\n",
    "2. Atribuir um valor numérico padrão\n",
    "\n",
    "    Para tipos numéricos (int, float), você pode atribuir um valor padrão, como 0 para inteiros ou 0.0 para floats."
   ]
  },
  {
   "cell_type": "markdown",
   "metadata": {},
   "source": [
    "## Exemplos em código"
   ]
  },
  {
   "cell_type": "markdown",
   "metadata": {},
   "source": [
    "### Inteiros"
   ]
  },
  {
   "cell_type": "code",
   "execution_count": 16,
   "metadata": {},
   "outputs": [
    {
     "name": "stdout",
     "output_type": "stream",
     "text": [
      "idade:  19\n",
      "tipo:  <class 'int'>\n"
     ]
    }
   ],
   "source": [
    "# int\n",
    "idade = 19\n",
    "print(\"idade: \", idade)\n",
    "print(\"tipo: \", type(idade))\n"
   ]
  },
  {
   "cell_type": "markdown",
   "metadata": {},
   "source": [
    "### Float"
   ]
  },
  {
   "cell_type": "code",
   "execution_count": 17,
   "metadata": {},
   "outputs": [
    {
     "name": "stdout",
     "output_type": "stream",
     "text": [
      "preco:  19.5\n",
      "tipo:  <class 'float'>\n"
     ]
    }
   ],
   "source": [
    "# float\n",
    "preco = 19.5\n",
    "print(\"preco: \", preco)\n",
    "print(\"tipo: \", type(preco))"
   ]
  },
  {
   "cell_type": "markdown",
   "metadata": {},
   "source": [
    "### String"
   ]
  },
  {
   "cell_type": "code",
   "execution_count": 18,
   "metadata": {},
   "outputs": [
    {
     "name": "stdout",
     "output_type": "stream",
     "text": [
      "nome:  trilha\n",
      "tipo:  <class 'str'>\n"
     ]
    }
   ],
   "source": [
    "# string\n",
    "nome = \"trilha\"\n",
    "print(\"nome: \", nome)\n",
    "print(\"tipo: \", type(nome))"
   ]
  },
  {
   "cell_type": "markdown",
   "metadata": {},
   "source": [
    "### Boolean"
   ]
  },
  {
   "cell_type": "code",
   "execution_count": 15,
   "metadata": {},
   "outputs": [
    {
     "name": "stdout",
     "output_type": "stream",
     "text": [
      "valor:  True\n",
      "tipo:  <class 'bool'>\n"
     ]
    }
   ],
   "source": [
    "# bool\n",
    "valor = True\n",
    "print(\"valor: \", valor)\n",
    "print(\"tipo: \", type(valor))"
   ]
  },
  {
   "cell_type": "markdown",
   "metadata": {},
   "source": [
    "### Criando uma variável, mas sem atribuir valor"
   ]
  },
  {
   "cell_type": "code",
   "execution_count": 20,
   "metadata": {},
   "outputs": [
    {
     "name": "stdout",
     "output_type": "stream",
     "text": [
      "valor:  None\n",
      "tipo:  <class 'NoneType'>\n"
     ]
    }
   ],
   "source": [
    "variavel = None\n",
    "print(\"valor: \", variavel)\n",
    "print(\"tipo: \", type(variavel))"
   ]
  },
  {
   "cell_type": "markdown",
   "metadata": {},
   "source": [
    "================================================================================"
   ]
  },
  {
   "cell_type": "markdown",
   "metadata": {},
   "source": [
    "## Exercícios"
   ]
  },
  {
   "cell_type": "markdown",
   "metadata": {},
   "source": [
    "### Faça as 4 operações matemáticas básicas (adição, subtração, divisão e multiplicação com inteiros e pontos flutuantes)"
   ]
  },
  {
   "cell_type": "code",
   "execution_count": null,
   "metadata": {},
   "outputs": [],
   "source": [
    "first_number = 8\n",
    "second_number = 4"
   ]
  },
  {
   "cell_type": "markdown",
   "metadata": {},
   "source": [
    "### Calcule o seu IMC (IMC = Peso (em kg) / Altura (em m)²). Substitua o None pelos valores adequados."
   ]
  },
  {
   "cell_type": "code",
   "execution_count": null,
   "metadata": {},
   "outputs": [],
   "source": [
    "height = None\n",
    "weight = None\n",
    "imc = None"
   ]
  },
  {
   "cell_type": "markdown",
   "metadata": {},
   "source": [
    "## Entrada e saída de dados"
   ]
  },
  {
   "cell_type": "markdown",
   "metadata": {},
   "source": [
    "<div style=\"text-align: center;\">\n",
    "  <img src=\"c3d77118c90fbda044c96c23d96a9480.jpg\">\n",
    "</div>"
   ]
  },
  {
   "cell_type": "markdown",
   "metadata": {},
   "source": [
    "Em computação, um programa é um conjunto de instruções que são executadas por um computador para manipular dados e realizar uma tarefa específica, com o objetivo de obter um resultado ou resolver um problema.\n",
    "\n",
    "Dessa forma, a primeira forma de obter dados, e a partir dai, mostrar o resultado das operações sobre eles, será o *Terminal*.\n",
    "\n",
    "Todos os tipos primitivos anteriores podem ser utilizados para a entrada/saída (conhecido como I/O (input/output)) de dados numa aplicação. Que nesse caso, será pelo terminal.\n",
    "\n",
    "\n",
    "Em python, a sintaxe para isso é a mostrada abaixo:"
   ]
  },
  {
   "cell_type": "code",
   "execution_count": null,
   "metadata": {},
   "outputs": [
    {
     "name": "stdout",
     "output_type": "stream",
     "text": [
      "Seu nome é: daniel\n"
     ]
    }
   ],
   "source": [
    "# Entrada de dados input()\n",
    "nome = input(\"Digite o seu nome\")\n",
    "\n",
    "# Saída de dados print()\n",
    "print(\"Seu nome é: \" + nome)"
   ]
  },
  {
   "cell_type": "markdown",
   "metadata": {},
   "source": [
    "Essa é a forma mais básica de entrada e saída. Nos 2 casos, foi utilizado o tipo STRING. Mas, e no exemplo abaixo, o que vai acontecer?"
   ]
  },
  {
   "cell_type": "code",
   "execution_count": 3,
   "metadata": {},
   "outputs": [
    {
     "name": "stdout",
     "output_type": "stream",
     "text": [
      "a sala tem 2222222222 metros quadrados\n"
     ]
    }
   ],
   "source": [
    "# Quero calcular quantos metros quadrados uma sala tem\n",
    "base = 10\n",
    "altura = input(\"digite a altura: \")\n",
    "area = base * altura\n",
    "\n",
    "print(\"a sala tem \" + area + \" metros quadrados\")"
   ]
  },
  {
   "cell_type": "markdown",
   "metadata": {},
   "source": [
    "Não saiu como o esperado, né? Veja o porquê."
   ]
  },
  {
   "cell_type": "code",
   "execution_count": 5,
   "metadata": {},
   "outputs": [
    {
     "name": "stdout",
     "output_type": "stream",
     "text": [
      "tipo da variavel base:  <class 'int'>\n",
      "tipo da variavel altura:  <class 'str'>\n",
      "tipo da variavel area:  <class 'str'>\n"
     ]
    }
   ],
   "source": [
    "print(\"tipo da variavel base: \", type(base))\n",
    "print(\"tipo da variavel altura: \",  type(altura))\n",
    "print(\"tipo da variavel area: \", type(area))"
   ]
  },
  {
   "cell_type": "markdown",
   "metadata": {},
   "source": [
    "Os tipos das variáveis são diferentes. Não é possível fazer operações (da forma comum) com variáveis de tipos diferentes. Ou o resultado não será o esperado, ou acontecerá um erro.\n",
    "\n",
    "E como isso é resolvido?\n",
    "\n",
    "Dizendo explicitamente o tipo da variável!"
   ]
  },
  {
   "cell_type": "code",
   "execution_count": null,
   "metadata": {},
   "outputs": [
    {
     "name": "stdout",
     "output_type": "stream",
     "text": [
      "a sala tem  200  metros quadrados\n"
     ]
    }
   ],
   "source": [
    "# Quero calcular quantos metros quadrados uma sala tem\n",
    "base_2 = 10\n",
    "altura_2 = int(input(\"digite a altura: \")) # 'tipamos' explicitamente a variável que nós estamos esperando receber\n",
    "area_2 = base_2 * altura_2\n",
    "\n",
    "print(\"a sala tem \",area_2, \" metros quadrados\")"
   ]
  },
  {
   "cell_type": "markdown",
   "metadata": {},
   "source": [
    "Legal, né? agora que o tipo que esperado foi definido, o programa vai saber lidar corretamente com as operações! Agora você conseguiu notar outra coisa na linha do print? porque o símbolo \"+\" foi trocado por \",\"?\n",
    "\n",
    "Já falaremos sobre um tópico muito importante: Strings em python.\n",
    "\n",
    "Mas antes: exercícios!"
   ]
  },
  {
   "cell_type": "markdown",
   "metadata": {},
   "source": [
    "## Exercícios"
   ]
  },
  {
   "cell_type": "markdown",
   "metadata": {},
   "source": [
    "Faça uma cálculadora em python. Peça pro usuário digitar 2 numeros (através do input), e, depois, mostre o resultado das 4 operações básicas sobre os 2 números recebidos, em cada print() separado."
   ]
  },
  {
   "cell_type": "code",
   "execution_count": null,
   "metadata": {},
   "outputs": [],
   "source": []
  },
  {
   "cell_type": "markdown",
   "metadata": {},
   "source": [
    "Pergunte o nome do usuário, e depois imprima uma saudação com o nome digitado pelo usuário."
   ]
  },
  {
   "cell_type": "code",
   "execution_count": null,
   "metadata": {},
   "outputs": [],
   "source": []
  },
  {
   "cell_type": "markdown",
   "metadata": {},
   "source": [
    "## Strings"
   ]
  },
  {
   "cell_type": "markdown",
   "metadata": {},
   "source": [
    "As Strings em python são *imutáveis*, ou seja, não podemos mudá-las diretamente, mas elas suportam várias operações entre si mesmas e outras strings.\n",
    "\n",
    "Uma das principais, é a concatenação de strings. \n",
    "\n",
    "Diferente de quando usamos o operador \"+\" como adição, em strings, ele vai juntar uma coisa com a outra.\n",
    "\n",
    "Já quando usamos o operador \"*\" (volte no exemplo acima, onde tentamos calcular a área), ele vai multiplicar a string pelo numero."
   ]
  },
  {
   "cell_type": "code",
   "execution_count": 8,
   "metadata": {},
   "outputs": [
    {
     "name": "stdout",
     "output_type": "stream",
     "text": [
      "João Victor\n"
     ]
    }
   ],
   "source": [
    "#\n",
    "nome1 = \"João\"\n",
    "nome2 = \"Victor\"\n",
    "nome_completo = nome1 + \" \" + nome2\n",
    "print(nome_completo)"
   ]
  },
  {
   "cell_type": "code",
   "execution_count": 9,
   "metadata": {},
   "outputs": [
    {
     "name": "stdout",
     "output_type": "stream",
     "text": [
      "TrilhaTrilhaTrilhaTrilhaTrilhaTrilhaTrilhaTrilhaTrilhaTrilha\n"
     ]
    }
   ],
   "source": [
    "name = \"Trilha\"\n",
    "quantidade = 10\n",
    "name_trilha = name * quantidade\n",
    "print(name_trilha)"
   ]
  },
  {
   "cell_type": "markdown",
   "metadata": {},
   "source": [
    "Como mencionada a diferença entre o operador \"+\" e \",\" no print acima, também é importante falar de outro tópico: f-string.\n",
    "\n",
    "As f-string existem para que possamos usar variáveis de tipos diferentes numa mesma sentença, sem termos erros.\n",
    "\n",
    "Abaixo estão 2 exemplos, um sem f-string, e outro com."
   ]
  },
  {
   "cell_type": "code",
   "execution_count": 18,
   "metadata": {},
   "outputs": [
    {
     "name": "stdout",
     "output_type": "stream",
     "text": [
      "no dia 12 , do mês 3 , eu tirei 7.3 em Cálculo\n"
     ]
    }
   ],
   "source": [
    "nota = 7.3\n",
    "dia = 12\n",
    "mês = 3\n",
    "materia = \"Cálculo\"\n",
    "print(\"no dia\",dia,\", do mês\",mês, \", eu tirei\",nota, \"em\",materia)"
   ]
  },
  {
   "cell_type": "code",
   "execution_count": 17,
   "metadata": {},
   "outputs": [
    {
     "name": "stdout",
     "output_type": "stream",
     "text": [
      "No dia 15, do mes 5, eu tirei 9.6 em Programação\n"
     ]
    }
   ],
   "source": [
    "nota2 = 9.6\n",
    "dia2 = 15\n",
    "mês2 = 5\n",
    "materia2 = \"Programação\"\n",
    "print(f\"No dia {dia2}, do mes {mês2}, eu tirei {nota2} em {materia2}\")"
   ]
  },
  {
   "cell_type": "markdown",
   "metadata": {},
   "source": [
    "a f-string aparece como uma forma mais organizacional de escrever uma sentença usando variáveis, como uma boa escolha caso você queira apresentar dados recebidos de alguma fonte."
   ]
  },
  {
   "cell_type": "markdown",
   "metadata": {},
   "source": [
    "### Agora, alguns métodos nativos do python para utilizar em strings:"
   ]
  },
  {
   "cell_type": "markdown",
   "metadata": {},
   "source": [
    "#### Acessar Caracteres da String"
   ]
  },
  {
   "cell_type": "code",
   "execution_count": null,
   "metadata": {},
   "outputs": [],
   "source": [
    "s = \"Python\"\n",
    "print(s[0])  # Saída: P (primeiro caractere)\n",
    "print(s[-1])  # Saída: n (último caractere)"
   ]
  },
  {
   "cell_type": "markdown",
   "metadata": {},
   "source": [
    "#### Fatiamento (Slicing)"
   ]
  },
  {
   "cell_type": "code",
   "execution_count": null,
   "metadata": {},
   "outputs": [],
   "source": [
    "s = \"Python\"\n",
    "print(s[0:3])  # Saída: Pyt (do índice 0 até o índice 3, mas sem incluir o índice 3)\n",
    "print(s[:3])   # Saída: Pyt (equivalente a s[0:3])\n",
    "print(s[3:])   # Saída: hon (do índice 3 até o final)\n",
    "print(s[-3:])  # Saída: hon (últimos 3 caracteres)\n"
   ]
  },
  {
   "cell_type": "markdown",
   "metadata": {},
   "source": [
    "#### Verificar se uma Substring Está Presente"
   ]
  },
  {
   "cell_type": "code",
   "execution_count": null,
   "metadata": {},
   "outputs": [],
   "source": [
    "s = \"Python\"\n",
    "print(\"Py\" in s)  # Saída: True\n",
    "print(\"java\" in s)  # Saída: False\n"
   ]
  },
  {
   "cell_type": "markdown",
   "metadata": {},
   "source": [
    "#### Transformar Tudo em Maiúsculas ou Minúsculas"
   ]
  },
  {
   "cell_type": "code",
   "execution_count": null,
   "metadata": {},
   "outputs": [],
   "source": [
    "s = \"Python\"\n",
    "print(s.upper())  # Saída: PYTHON\n",
    "print(s.lower())  # Saída: python\n"
   ]
  },
  {
   "cell_type": "markdown",
   "metadata": {},
   "source": [
    "#### Remover Espaços em Branco"
   ]
  },
  {
   "cell_type": "code",
   "execution_count": null,
   "metadata": {},
   "outputs": [],
   "source": [
    "s = \"   Python   \"\n",
    "print(s.strip())  # Saída: Python\n"
   ]
  },
  {
   "cell_type": "markdown",
   "metadata": {},
   "source": [
    "#### Substituir Substrings"
   ]
  },
  {
   "cell_type": "code",
   "execution_count": null,
   "metadata": {},
   "outputs": [],
   "source": [
    "s = \"Python é ótimo\"\n",
    "s2 = s.replace(\"ótimo\", \"incrível\")\n",
    "print(s2)  # Saída: Python é incrível\n"
   ]
  },
  {
   "cell_type": "markdown",
   "metadata": {},
   "source": [
    "#### Dividir a String"
   ]
  },
  {
   "cell_type": "code",
   "execution_count": null,
   "metadata": {},
   "outputs": [],
   "source": [
    "s = \"Python é ótimo\"\n",
    "palavras = s.split()\n",
    "print(palavras)  # Saída: ['Python', 'é', 'ótimo']\n"
   ]
  },
  {
   "cell_type": "markdown",
   "metadata": {},
   "source": [
    "#### Verificar o Tamanho da String"
   ]
  },
  {
   "cell_type": "code",
   "execution_count": null,
   "metadata": {},
   "outputs": [],
   "source": [
    "s = \"Python\"\n",
    "print(len(s))  # Saída: 6\n"
   ]
  },
  {
   "cell_type": "markdown",
   "metadata": {},
   "source": [
    "#### Converter a Primeira Letra em Maiúscula"
   ]
  },
  {
   "cell_type": "code",
   "execution_count": null,
   "metadata": {},
   "outputs": [],
   "source": [
    "s = \"python\"\n",
    "print(s.capitalize())  # Saída: Python\n"
   ]
  },
  {
   "cell_type": "markdown",
   "metadata": {},
   "source": [
    "#### Contar Ocorrências de uma Substring"
   ]
  },
  {
   "cell_type": "code",
   "execution_count": null,
   "metadata": {},
   "outputs": [],
   "source": [
    "s = \"Python Python Python\"\n",
    "print(s.count(\"Python\"))  # Saída: 3\n"
   ]
  },
  {
   "cell_type": "markdown",
   "metadata": {},
   "source": [
    "#### Verificar se a String Começa ou Termina com uma Substring"
   ]
  },
  {
   "cell_type": "code",
   "execution_count": null,
   "metadata": {},
   "outputs": [],
   "source": [
    "s = \"Python\"\n",
    "print(s.startswith(\"Py\"))  # Saída: True\n",
    "print(s.endswith(\"on\"))    # Saída: True"
   ]
  }
 ],
 "metadata": {
  "kernelspec": {
   "display_name": "Python 3",
   "language": "python",
   "name": "python3"
  },
  "language_info": {
   "codemirror_mode": {
    "name": "ipython",
    "version": 3
   },
   "file_extension": ".py",
   "mimetype": "text/x-python",
   "name": "python",
   "nbconvert_exporter": "python",
   "pygments_lexer": "ipython3",
   "version": "3.11.9"
  }
 },
 "nbformat": 4,
 "nbformat_minor": 2
}
